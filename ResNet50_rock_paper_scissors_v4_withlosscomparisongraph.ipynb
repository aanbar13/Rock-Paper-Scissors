{
 "cells": [
  {
   "cell_type": "code",
   "execution_count": 1,
   "metadata": {},
   "outputs": [],
   "source": [
    "import numpy as np\n",
    "import pandas as pd\n",
    "import matplotlib.pyplot as plt\n",
    "import random\n",
    "import os\n",
    "import cv2\n",
    "from sklearn.metrics import classification_report\n",
    "from sklearn.metrics import accuracy_score\n",
    "from sklearn.model_selection import train_test_split"
   ]
  },
  {
   "cell_type": "code",
   "execution_count": 2,
   "metadata": {},
   "outputs": [
    {
     "name": "stderr",
     "output_type": "stream",
     "text": [
      "D:\\Anaconda\\lib\\site-packages\\requests\\__init__.py:89: RequestsDependencyWarning: urllib3 (1.26.12) or chardet (3.0.4) doesn't match a supported version!\n",
      "  warnings.warn(\"urllib3 ({}) or chardet ({}) doesn't match a supported \"\n"
     ]
    }
   ],
   "source": [
    "import tensorflow as tf\n",
    "from tensorflow.keras.preprocessing.image import load_img, img_to_array\n",
    "from tensorflow.keras.preprocessing.image import ImageDataGenerator\n",
    "from tensorflow.keras.utils import to_categorical"
   ]
  },
  {
   "cell_type": "code",
   "execution_count": 3,
   "metadata": {},
   "outputs": [
    {
     "name": "stdout",
     "output_type": "stream",
     "text": [
      "['paper', 'rock', 'scissors']\n"
     ]
    }
   ],
   "source": [
    "data_dir = 'Data_rock_paper_scissor_KAGGLE/Rock-Paper-Scissors-2/'\n",
    "print(os.listdir(data_dir))"
   ]
  },
  {
   "cell_type": "code",
   "execution_count": 4,
   "metadata": {},
   "outputs": [
    {
     "name": "stdout",
     "output_type": "stream",
     "text": [
      "['paper', 'rock', 'scissors']\n",
      "3\n"
     ]
    }
   ],
   "source": [
    "Name=['paper','rock','scissors']\n",
    "print(Name)\n",
    "print(len(Name))"
   ]
  },
  {
   "cell_type": "code",
   "execution_count": 5,
   "metadata": {},
   "outputs": [],
   "source": [
    "mapping={\"paper\":0,\"rock\":1,\"scissors\":2}\n",
    "reverse_mapping={0:'paper',1:'rock',2:'scissors'}"
   ]
  },
  {
   "cell_type": "code",
   "execution_count": 6,
   "metadata": {},
   "outputs": [],
   "source": [
    "dataX=[]\n",
    "dataY0=[]\n",
    "count=0\n",
    "for name in Name:\n",
    "    path=os.path.join(data_dir,name)\n",
    "    for im in os.listdir(path):\n",
    "        image=cv2.imread(os.path.join(path,im))\n",
    "        if type(image)==np.ndarray and image.shape[0]>10 and image.shape[1]>10:\n",
    "            image3=cv2.resize(image,dsize=(100,100),interpolation=cv2.INTER_CUBIC)\n",
    "            dataX+=[image3]\n",
    "            dataY0+=[count]\n",
    "    count+=1"
   ]
  },
  {
   "cell_type": "code",
   "execution_count": 7,
   "metadata": {},
   "outputs": [],
   "source": [
    "dataX=np.array(dataX)\n",
    "dataY0=np.array(dataY0)"
   ]
  },
  {
   "cell_type": "code",
   "execution_count": 8,
   "metadata": {},
   "outputs": [],
   "source": [
    "m=len(dataX)\n",
    "M=list(range(m))\n",
    "random.seed(2021)\n",
    "random.shuffle(M)"
   ]
  },
  {
   "cell_type": "code",
   "execution_count": 9,
   "metadata": {},
   "outputs": [],
   "source": [
    "trainX=dataX[M[0:(m//4)*3]]\n",
    "trainY0=dataY0[M[0:(m//4)*3]]\n",
    "testX=dataX[M[(m//4)*3:]]\n",
    "testY0=dataY0[M[(m//4)*3:]]"
   ]
  },
  {
   "cell_type": "code",
   "execution_count": 10,
   "metadata": {},
   "outputs": [],
   "source": [
    "labels1=to_categorical(trainY0)\n",
    "trainY=np.array(labels1)"
   ]
  },
  {
   "cell_type": "code",
   "execution_count": 11,
   "metadata": {},
   "outputs": [],
   "source": [
    "trainx,testx,trainy,testy=train_test_split(trainX,trainY,test_size=0.2,random_state=44)"
   ]
  },
  {
   "cell_type": "code",
   "execution_count": 12,
   "metadata": {},
   "outputs": [
    {
     "name": "stdout",
     "output_type": "stream",
     "text": [
      "(1312, 100, 100, 3)\n",
      "(329, 100, 100, 3)\n",
      "(1312, 3)\n",
      "(329, 3)\n"
     ]
    }
   ],
   "source": [
    "print(trainx.shape)\n",
    "print(testx.shape)\n",
    "print(trainy.shape)\n",
    "print(testy.shape)"
   ]
  },
  {
   "cell_type": "code",
   "execution_count": 13,
   "metadata": {},
   "outputs": [],
   "source": [
    "datagen = ImageDataGenerator(horizontal_flip=True,\n",
    "                            vertical_flip=True,rotation_range=20,zoom_range=0.2,\n",
    "                            width_shift_range=0.2,\n",
    "                            height_shift_range=0.2,\n",
    "                            shear_range=0.1,\n",
    "                            fill_mode=\"nearest\")"
   ]
  },
  {
   "cell_type": "code",
   "execution_count": 14,
   "metadata": {},
   "outputs": [],
   "source": [
    "pretrained_model = tf.keras.applications.ResNet50(input_shape=(100,100,3),\n",
    "                                                        include_top=False,\n",
    "                                                        weights='imagenet',\n",
    "                                                        pooling='avg')\n",
    "pretrained_model.trainable = False"
   ]
  },
  {
   "cell_type": "code",
   "execution_count": 15,
   "metadata": {},
   "outputs": [],
   "source": [
    "inputs = pretrained_model.input\n",
    "x = tf.keras.layers.Dense(128, activation='relu')(pretrained_model.output)\n",
    "outputs = tf.keras.layers.Dense(3, activation='softmax')(x)\n",
    "model = tf.keras.Model(inputs=inputs, outputs=outputs)"
   ]
  },
  {
   "cell_type": "code",
   "execution_count": 16,
   "metadata": {},
   "outputs": [
    {
     "name": "stdout",
     "output_type": "stream",
     "text": [
      "Epoch 1/10\n",
      "41/41 [==============================] - 38s 844ms/step - loss: 0.4069 - accuracy: 0.8651 - val_loss: 0.1303 - val_accuracy: 0.9392\n",
      "Epoch 2/10\n",
      "41/41 [==============================] - 35s 850ms/step - loss: 0.1017 - accuracy: 0.9627 - val_loss: 0.0523 - val_accuracy: 0.9878\n",
      "Epoch 3/10\n",
      "41/41 [==============================] - 31s 748ms/step - loss: 0.1013 - accuracy: 0.9657 - val_loss: 0.0403 - val_accuracy: 0.9878\n",
      "Epoch 4/10\n",
      "41/41 [==============================] - 32s 780ms/step - loss: 0.0525 - accuracy: 0.9832 - val_loss: 0.0192 - val_accuracy: 0.9970\n",
      "Epoch 5/10\n",
      "41/41 [==============================] - 32s 783ms/step - loss: 0.0543 - accuracy: 0.9848 - val_loss: 0.0327 - val_accuracy: 0.9909\n",
      "Epoch 6/10\n",
      "41/41 [==============================] - 32s 772ms/step - loss: 0.0529 - accuracy: 0.9809 - val_loss: 0.0106 - val_accuracy: 0.9970\n",
      "Epoch 7/10\n",
      "41/41 [==============================] - 31s 761ms/step - loss: 0.0521 - accuracy: 0.9863 - val_loss: 0.0168 - val_accuracy: 0.9909\n",
      "Epoch 8/10\n",
      "41/41 [==============================] - 30s 727ms/step - loss: 0.0679 - accuracy: 0.9771 - val_loss: 0.0119 - val_accuracy: 0.9939\n",
      "Epoch 9/10\n",
      "41/41 [==============================] - 31s 759ms/step - loss: 0.0519 - accuracy: 0.9855 - val_loss: 0.0078 - val_accuracy: 1.0000\n",
      "Epoch 10/10\n",
      "41/41 [==============================] - 32s 776ms/step - loss: 0.0434 - accuracy: 0.9848 - val_loss: 0.0182 - val_accuracy: 0.9939\n"
     ]
    }
   ],
   "source": [
    "model.compile(loss = 'categorical_crossentropy', optimizer='adam', metrics=['accuracy'])\n",
    "his=model.fit(datagen.flow(trainx,trainy,batch_size=32),validation_data=(testx,testy),epochs=10)"
   ]
  },
  {
   "cell_type": "code",
   "execution_count": 17,
   "metadata": {},
   "outputs": [],
   "source": [
    "# model.save('Data_rock_paper_scissor_KAGGLE/RPS_detectionModel_v4.h5')"
   ]
  },
  {
   "cell_type": "code",
   "execution_count": 18,
   "metadata": {},
   "outputs": [
    {
     "data": {
      "image/png": "[encoded data removed]",
      "text/plain": [
       "<Figure size 432x288 with 1 Axes>"
      ]
     },
     "metadata": {
      "needs_background": "light"
     },
     "output_type": "display_data"
    }
   ],
   "source": [
    "loss_train = his.history['loss']\n",
    "loss_val = his.history['val_loss']\n",
    "epochs = range(1,11)\n",
    "plt.plot(epochs, loss_train, 'g', label='Training loss')\n",
    "plt.plot(epochs, loss_val, 'b', label='Validation loss')\n",
    "plt.title('Training and Validation loss')\n",
    "plt.xlabel('Epochs')\n",
    "plt.ylabel('Loss')\n",
    "plt.legend()\n",
    "plt.show()"
   ]
  },
  {
   "cell_type": "code",
   "execution_count": 20,
   "metadata": {},
   "outputs": [
    {
     "data": {
      "image/png": "[encoded data removed]",
      "text/plain": [
       "<Figure size 432x288 with 1 Axes>"
      ]
     },
     "metadata": {
      "needs_background": "light"
     },
     "output_type": "display_data"
    }
   ],
   "source": [
    "acc_train = his.history['accuracy']\n",
    "acc_val = his.history['val_accuracy']\n",
    "epochs = range(1,11)\n",
    "plt.plot(epochs, acc_train, 'g', label='Training accuracy')\n",
    "plt.plot(epochs, acc_val, 'b', label='validation accuracy')\n",
    "plt.title('Training and Validation accuracy')\n",
    "plt.xlabel('Epochs')\n",
    "plt.ylabel('Accuracy') \n",
    "plt.ylim(.50,1.2)\n",
    "plt.legend()\n",
    "plt.show()"
   ]
  },
  {
   "cell_type": "code",
   "execution_count": null,
   "metadata": {},
   "outputs": [],
   "source": []
  }
 ],
 "metadata": {
  "kernelspec": {
   "display_name": "Python 3",
   "language": "python",
   "name": "python3"
  },
  "language_info": {
   "codemirror_mode": {
    "name": "ipython",
    "version": 3
   },
   "file_extension": ".py",
   "mimetype": "text/x-python",
   "name": "python",
   "nbconvert_exporter": "python",
   "pygments_lexer": "ipython3",
   "version": "3.8.3"
  }
 },
 "nbformat": 4,
 "nbformat_minor": 4
}
